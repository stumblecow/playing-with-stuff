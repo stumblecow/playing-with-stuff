{
  "nbformat": 4,
  "nbformat_minor": 0,
  "metadata": {
    "colab": {
      "provenance": [],
      "authorship_tag": "ABX9TyOd/6hIlebtJstj8hjJ0sxQ",
      "include_colab_link": true
    },
    "kernelspec": {
      "name": "python3",
      "display_name": "Python 3"
    },
    "language_info": {
      "name": "python"
    }
  },
  "cells": [
    {
      "cell_type": "markdown",
      "metadata": {
        "id": "view-in-github",
        "colab_type": "text"
      },
      "source": [
        "<a href=\"https://colab.research.google.com/github/stumblecow/playing-with-stuff/blob/main/playing_with_pandas_and_streamlit.ipynb\" target=\"_parent\"><img src=\"https://colab.research.google.com/assets/colab-badge.svg\" alt=\"Open In Colab\"/></a>"
      ]
    },
    {
      "cell_type": "code",
      "execution_count": 1,
      "metadata": {
        "colab": {
          "base_uri": "https://localhost:8080/",
          "height": 393
        },
        "id": "QlDyRXY_Btj6",
        "outputId": "ccd415ed-09de-4979-fe71-c625cf689eea"
      },
      "outputs": [
        {
          "output_type": "error",
          "ename": "ModuleNotFoundError",
          "evalue": "No module named 'streamlit'",
          "traceback": [
            "\u001b[0;31m---------------------------------------------------------------------------\u001b[0m",
            "\u001b[0;31mModuleNotFoundError\u001b[0m                       Traceback (most recent call last)",
            "\u001b[0;32m/tmp/ipython-input-1795510940.py\u001b[0m in \u001b[0;36m<cell line: 0>\u001b[0;34m()\u001b[0m\n\u001b[1;32m      1\u001b[0m \u001b[0;32mimport\u001b[0m \u001b[0mpandas\u001b[0m \u001b[0;32mas\u001b[0m \u001b[0mpd\u001b[0m\u001b[0;34m\u001b[0m\u001b[0;34m\u001b[0m\u001b[0m\n\u001b[0;32m----> 2\u001b[0;31m \u001b[0;32mimport\u001b[0m \u001b[0mstreamlit\u001b[0m \u001b[0;32mas\u001b[0m \u001b[0mst\u001b[0m\u001b[0;34m\u001b[0m\u001b[0;34m\u001b[0m\u001b[0m\n\u001b[0m\u001b[1;32m      3\u001b[0m \u001b[0;34m\u001b[0m\u001b[0m\n\u001b[1;32m      4\u001b[0m \u001b[0;31m# Set up the page\u001b[0m\u001b[0;34m\u001b[0m\u001b[0;34m\u001b[0m\u001b[0m\n\u001b[1;32m      5\u001b[0m \u001b[0mst\u001b[0m\u001b[0;34m.\u001b[0m\u001b[0mset_page_config\u001b[0m\u001b[0;34m(\u001b[0m\u001b[0mlayout\u001b[0m\u001b[0;34m=\u001b[0m\u001b[0;34m\"wide\"\u001b[0m\u001b[0;34m)\u001b[0m\u001b[0;34m\u001b[0m\u001b[0;34m\u001b[0m\u001b[0m\n",
            "\u001b[0;31mModuleNotFoundError\u001b[0m: No module named 'streamlit'",
            "",
            "\u001b[0;31m---------------------------------------------------------------------------\u001b[0;32m\nNOTE: If your import is failing due to a missing package, you can\nmanually install dependencies using either !pip or !apt.\n\nTo view examples of installing some common dependencies, click the\n\"Open Examples\" button below.\n\u001b[0;31m---------------------------------------------------------------------------\u001b[0m\n"
          ],
          "errorDetails": {
            "actions": [
              {
                "action": "open_url",
                "actionText": "Open Examples",
                "url": "/notebooks/snippets/importing_libraries.ipynb"
              }
            ]
          }
        }
      ],
      "source": [
        "import pandas as pd\n",
        "import streamlit as st\n",
        "\n",
        "# Set up the page\n",
        "st.set_page_config(layout=\"wide\")\n",
        "st.title(\"📊 Delegate Projection Tool\")\n",
        "\n",
        "# 1. Load your data. PLEASE CHANGE THESE FILENAMES TO MATCH YOURS!\n",
        "@st.cache_data\n",
        "def load_data():\n",
        "    # Replace 'chapters.csv' and 'caucuses.csv' with your actual file names\n",
        "    chapters = pd.read_csv('chapters.csv')\n",
        "    caucuses = pd.read_csv('caucuses.csv')\n",
        "    return chapters, caucuses\n",
        "\n",
        "base_chapters, base_caucuses = load_data()\n",
        "\n",
        "# 2. Let the user set a global growth rate\n",
        "global_growth = st.sidebar.slider(\"Global Growth Rate (%)\", 0.0, 100.0, 10.0) / 100.0\n",
        "\n",
        "# 3. Copy our base data so we can edit it without messing up the original\n",
        "chapters_df = base_chapters.copy()\n",
        "caucuses_df = base_caucuses.copy()\n",
        "\n",
        "# 4. Add a new column for the user's growth rate override (starting with the global rate)\n",
        "chapters_df['growth_rate_override'] = global_growth\n",
        "\n",
        "# 5. --- THE CALCULATION ENGINE ---\n",
        "# Calculate projected members for each chapter\n",
        "chapters_df['2027_projected_members'] = chapters_df['2025_membership'] * (1 + chapters_df['growth_rate_override'])\n",
        "# Calculate total national projected members\n",
        "total_projected_members = chapters_df['2027_projected_members'].sum()\n",
        "# Calculate each chapter's share of the total and thus its delegate estimate\n",
        "chapters_df['2027_estimated_delegates'] = (chapters_df['2027_projected_members'] / total_projected_members) * (total_projected_members / 60)\n",
        "# Simplify the calculation as we discussed\n",
        "chapters_df['2027_estimated_delegates'] = chapters_df['2027_projected_members'] / 60\n",
        "# Round the delegates to a whole number for practicality\n",
        "chapters_df['2027_estimated_delegates'] = chapters_df['2027_estimated_delegates'].round().astype(int)\n",
        "\n",
        "# 6. Let the user SEE and EDIT the chapter-level growth rates and final delegates!\n",
        "st.header(\"Chapter-Level Projections\")\n",
        "st.caption(\"Edit the 'growth_rate_override' or '2027_estimated_delegates' columns directly in the table below.\")\n",
        "\n",
        "# This is the magic: Streamlit's data_editor makes the table editable.\n",
        "edited_chapters_df = st.data_editor(chapters_df, num_rows=\"dynamic\", use_container_width=True)\n",
        "\n",
        "# 7. Show the results\n",
        "st.subheader(\"Adjusted Chapter Summary\")\n",
        "st.write(edited_chapters_df[['chapter_name', '2025_membership', 'growth_rate_override', '2027_estimated_delegates']])\n",
        "\n",
        "# 8. Button to export your worked-on data to a CSV\n",
        "csv_chapters = edited_chapters_df.to_csv(index=False)\n",
        "st.download_button(\"Download Chapter Data as CSV\", data=csv_chapters, file_name=\"adjusted_chapters.csv\", mime='text/csv')"
      ]
    }
  ]
}