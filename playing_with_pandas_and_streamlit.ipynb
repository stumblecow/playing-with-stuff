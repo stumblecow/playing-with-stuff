{
  "nbformat": 4,
  "nbformat_minor": 0,
  "metadata": {
    "colab": {
      "provenance": [],
      "authorship_tag": "ABX9TyOtbTbTZTpQQWfJ7KXL9BeR",
      "include_colab_link": true
    },
    "kernelspec": {
      "name": "python3",
      "display_name": "Python 3"
    },
    "language_info": {
      "name": "python"
    }
  },
  "cells": [
    {
      "cell_type": "markdown",
      "metadata": {
        "id": "view-in-github",
        "colab_type": "text"
      },
      "source": [
        "<a href=\"https://colab.research.google.com/github/stumblecow/playing-with-stuff/blob/main/playing_with_pandas_and_streamlit.ipynb\" target=\"_parent\"><img src=\"https://colab.research.google.com/assets/colab-badge.svg\" alt=\"Open In Colab\"/></a>"
      ]
    },
    {
      "cell_type": "code",
      "execution_count": 17,
      "metadata": {
        "colab": {
          "base_uri": "https://localhost:8080/",
          "height": 393
        },
        "id": "QlDyRXY_Btj6",
        "outputId": "5ad4d07e-0a77-48f3-e308-0c100a30905d"
      },
      "outputs": [
        {
          "output_type": "error",
          "ename": "ModuleNotFoundError",
          "evalue": "No module named 'streamlit'",
          "traceback": [
            "\u001b[0;31m---------------------------------------------------------------------------\u001b[0m",
            "\u001b[0;31mModuleNotFoundError\u001b[0m                       Traceback (most recent call last)",
            "\u001b[0;32m/tmp/ipython-input-1013877853.py\u001b[0m in \u001b[0;36m<cell line: 0>\u001b[0;34m()\u001b[0m\n\u001b[1;32m      1\u001b[0m \u001b[0;32mimport\u001b[0m \u001b[0mpandas\u001b[0m \u001b[0;32mas\u001b[0m \u001b[0mpd\u001b[0m\u001b[0;34m\u001b[0m\u001b[0;34m\u001b[0m\u001b[0m\n\u001b[0;32m----> 2\u001b[0;31m \u001b[0;32mimport\u001b[0m \u001b[0mstreamlit\u001b[0m \u001b[0;32mas\u001b[0m \u001b[0mst\u001b[0m\u001b[0;34m\u001b[0m\u001b[0;34m\u001b[0m\u001b[0m\n\u001b[0m\u001b[1;32m      3\u001b[0m \u001b[0;34m\u001b[0m\u001b[0m\n\u001b[1;32m      4\u001b[0m \u001b[0;31m#Load and clean up Data\u001b[0m\u001b[0;34m\u001b[0m\u001b[0;34m\u001b[0m\u001b[0m\n\u001b[1;32m      5\u001b[0m \u001b[0;32mdef\u001b[0m \u001b[0mloaddata\u001b[0m \u001b[0;34m(\u001b[0m\u001b[0;34m)\u001b[0m\u001b[0;34m:\u001b[0m\u001b[0;34m\u001b[0m\u001b[0;34m\u001b[0m\u001b[0m\n",
            "\u001b[0;31mModuleNotFoundError\u001b[0m: No module named 'streamlit'",
            "",
            "\u001b[0;31m---------------------------------------------------------------------------\u001b[0;32m\nNOTE: If your import is failing due to a missing package, you can\nmanually install dependencies using either !pip or !apt.\n\nTo view examples of installing some common dependencies, click the\n\"Open Examples\" button below.\n\u001b[0;31m---------------------------------------------------------------------------\u001b[0m\n"
          ],
          "errorDetails": {
            "actions": [
              {
                "action": "open_url",
                "actionText": "Open Examples",
                "url": "/notebooks/snippets/importing_libraries.ipynb"
              }
            ]
          }
        }
      ],
      "source": [
        "import pandas as pd\n",
        "import streamlit as st\n",
        "\n",
        "#Load and clean up Data\n",
        "def loaddata ():\n",
        "  chapters_df = pd.read_csv ('chapters.csv')\n",
        "  caucuses_df = pd.read_csv ('caucuses.csv')\n",
        "  return chapters_df, caucuses_df\n",
        "\n",
        "def meltcaucuses (caucuses_df):\n",
        "  #Melts the caucus CSV\n",
        "  melted_caucuses = caucuses_df.melt (\n",
        "    id_vars=['Chapter'],\n",
        "    var_name = 'Caucus',\n",
        "    value_name= '2025 Voters')\n",
        "  # Fill blank/NaN values with 0 in the '2025 Voters' column\n",
        "  melted_caucuses['2025 Voters'] = melted_caucuses['2025 Voters'].fillna(0)\n",
        "  return melted_caucuses\n",
        "\n",
        "def prepdata():\n",
        "  chapters_df, caucuses_df = loaddata()\n",
        "  melted_caucuses = meltcaucuses(caucuses_df)\n",
        "  return chapters_df, melted_caucuses\n",
        "\n",
        "#Set up streamlit environment\n",
        "def showchart ():\n",
        "  st.write (chapters_df, melted_caucuses)\n",
        "\n",
        "if __name__ == \"__main__\":\n",
        "    # Capture the returned data\n",
        "    chapters_data, melted_caucuses_data = prepdata()\n",
        "    # Pass the data to the showchart function\n",
        "    showchart(chapters_data, melted_caucuses_data)\n",
        "\n"
      ]
    }
  ]
}